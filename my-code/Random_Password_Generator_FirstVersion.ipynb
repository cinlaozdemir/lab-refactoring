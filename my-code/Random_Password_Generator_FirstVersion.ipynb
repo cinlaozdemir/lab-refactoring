{
 "cells": [
  {
   "cell_type": "code",
   "execution_count": 2,
   "metadata": {},
   "outputs": [
    {
     "name": "stdout",
     "output_type": "stream",
     "text": [
      "Welcome! Let's create a random password for you! Please insert your name: hgj\n",
      "Ok, hgj! I will use the letters of your name in your password! Please insert also your birth year: 1993\n",
      "Here is your random password: 9g9&:1]=3:<h|j'#, it's a mix of the letters of your name, the numbers in your birth year and some random punctuations!\n",
      "The strength of your password is: 0.7261840122118657. It's recommended for it to be at least 0.66 to be considered strong.\n"
     ]
    }
   ],
   "source": [
    "from password_strength import PasswordStats #import library to test the strength of the passwords\n",
    "import string #to create a string of punctuations\n",
    "import random #to be able to shuffle everything\n",
    "Name=input(\"Welcome! Let's create a random password for you! Please insert your name: \")\n",
    "Birth=input(f\"Ok, {Name}! I will use the letters of your name in your password! Please insert also your birth year: \")\n",
    "Info=Name+Birth\n",
    "passwordlength=16\n",
    "Punct_number=16-len(Info) #the number of punctuation symbols I need \n",
    "punctelements=\"\".join(random.choice(string.punctuation) for i in range (Punct_number)) #create the correct number of string of punct symbols\n",
    "Passwordelements=Info+punctelements #put everything together\n",
    "Password=\"\".join(random.sample(Passwordelements, 16)) #shuffling and creating a string with 16 characters\n",
    "print(f\"Here is your random password: {Password}, it's a mix of the letters of your name, the numbers in your birth year and some random punctuations!\")\n",
    "stats = PasswordStats(Password)\n",
    "y=stats.strength() #strength of the generated password\n",
    "print(f\"The strength of your password is: {y}. It's recommended for it to be at least 0.66 to be considered strong.\")"
   ]
  },
  {
   "cell_type": "code",
   "execution_count": null,
   "metadata": {},
   "outputs": [],
   "source": []
  }
 ],
 "metadata": {
  "kernelspec": {
   "display_name": "Python 3",
   "language": "python",
   "name": "python3"
  },
  "language_info": {
   "codemirror_mode": {
    "name": "ipython",
    "version": 3
   },
   "file_extension": ".py",
   "mimetype": "text/x-python",
   "name": "python",
   "nbconvert_exporter": "python",
   "pygments_lexer": "ipython3",
   "version": "3.7.4"
  }
 },
 "nbformat": 4,
 "nbformat_minor": 2
}
